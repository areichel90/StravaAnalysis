{
 "cells": [
  {
   "cell_type": "code",
   "execution_count": 16,
   "metadata": {},
   "outputs": [],
   "source": [
    "import time\n",
    "import strava_api_v3\n",
    "from strava_api_v3.rest import ApiException\n",
    "\n",
    "# Configure OAuth2 access token for authorization: strava_oauth\n",
    "config = strava_api_v3.Configuration()\n",
    "strava_api_v3.configuration.access_token = '4b76f181eb560d5ebdf23e59308342e2e92e147b' \n",
    "\n",
    "# create an instance of the API class\n",
    "api_instance = strava_api_v3.ActivitiesApi(strava_api_v3.ApiClient(config))\n"
   ]
  },
  {
   "cell_type": "code",
   "execution_count": 17,
   "metadata": {},
   "outputs": [],
   "source": [
    "''' activity id '''\n",
    "id_num = 3313706686"
   ]
  },
  {
   "cell_type": "code",
   "execution_count": 18,
   "metadata": {},
   "outputs": [
    {
     "name": "stdout",
     "output_type": "stream",
     "text": [
      "Exception when calling    ActivitiesApi->get_activity_by_id: (401)\n",
      "Reason: Unauthorized\n",
      "HTTP response headers: HTTPHeaderDict({'Status': '401 Unauthorized', 'X-Request-Id': '4961b888-3bd7-49f9-96bd-ff3cfdedb50a', 'Via': '1.1 linkerd', 'X-Content-Type-Options': 'nosniff', 'X-Download-Options': 'noopen', 'Transfer-Encoding': 'chunked', 'Vary': 'Origin', 'Connection': 'keep-alive', 'X-XSS-Protection': '1; mode=block', 'X-Permitted-Cross-Domain-Policies': 'none', 'Cache-Control': 'no-cache', 'Date': 'Sat, 18 Apr 2020 14:53:14 GMT', 'X-FRAME-OPTIONS': 'DENY', 'Referrer-Policy': 'strict-origin-when-cross-origin', 'Content-Type': 'application/json; charset=utf-8'})\n",
      "HTTP response body: {\"message\":\"Authorization Error\",\"errors\":[{\"resource\":\"Application\",\"field\":\"\",\"code\":\"invalid\"}]}\n",
      "\n"
     ]
    }
   ],
   "source": [
    "try:\n",
    "    api_response = api_instance.get_activity_by_id(id_num)\n",
    "    print(api_response)\n",
    "except ApiException as e:\n",
    "    print \"Exception when calling\\\n",
    "    ActivitiesApi->get_activity_by_id: {}\".format(e)"
   ]
  },
  {
   "cell_type": "code",
   "execution_count": 24,
   "metadata": {},
   "outputs": [
    {
     "ename": "TypeError",
     "evalue": "__call__() got an unexpected keyword argument 'user_id'",
     "output_type": "error",
     "traceback": [
      "\u001b[0;31m---------------------------------------------------------------------------\u001b[0m",
      "\u001b[0;31mTypeError\u001b[0m                                 Traceback (most recent call last)",
      "\u001b[0;32m<ipython-input-24-7849f5f99f70>\u001b[0m in \u001b[0;36m<module>\u001b[0;34m()\u001b[0m\n\u001b[0;32m----> 1\u001b[0;31m \u001b[0mstrava_api_v3\u001b[0m\u001b[0;34m.\u001b[0m\u001b[0mConfiguration\u001b[0m\u001b[0;34m(\u001b[0m\u001b[0muser_id\u001b[0m\u001b[0;34m=\u001b[0m\u001b[0mid_num\u001b[0m\u001b[0;34m)\u001b[0m\u001b[0;34m\u001b[0m\u001b[0m\n\u001b[0m",
      "\u001b[0;31mTypeError\u001b[0m: __call__() got an unexpected keyword argument 'user_id'"
     ]
    }
   ],
   "source": [
    "strava_api_v3.Configuration(user_id=id_num)"
   ]
  },
  {
   "cell_type": "code",
   "execution_count": null,
   "metadata": {},
   "outputs": [],
   "source": []
  }
 ],
 "metadata": {
  "anaconda-cloud": {},
  "kernelspec": {
   "display_name": "Python 2",
   "language": "python",
   "name": "python2"
  },
  "language_info": {
   "codemirror_mode": {
    "name": "ipython",
    "version": 2
   },
   "file_extension": ".py",
   "mimetype": "text/x-python",
   "name": "python",
   "nbconvert_exporter": "python",
   "pygments_lexer": "ipython2",
   "version": "2.7.15"
  }
 },
 "nbformat": 4,
 "nbformat_minor": 2
}
